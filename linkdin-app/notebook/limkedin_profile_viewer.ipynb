{
 "cells": [
  {
   "cell_type": "code",
   "execution_count": 12,
   "id": "de3b312f-4a5e-4f58-b23d-af18c4c60942",
   "metadata": {},
   "outputs": [],
   "source": [
    "import requests\n",
    "from pathlib import Path\n",
    "import os\n",
    "import json\n",
    "from pprint import pprint"
   ]
  },
  {
   "cell_type": "code",
   "execution_count": 14,
   "id": "026c05bf-0e49-4fac-a994-24f151f42053",
   "metadata": {},
   "outputs": [],
   "source": [
    "def get_linkedin_profile(username):\n",
    "    url = \"https://linkedin-data-api.p.rapidapi.com/\"\n",
    "    x_rapidapi_key =  \"c154144e9fmshca0c16902f6b830p1a68f4jsn0bb666e8b8a3\"\n",
    "\n",
    "    querystring = {\"username\": username}\n",
    "\n",
    "    headers = {\n",
    "    \t\"x-rapidapi-key\": \"c154144e9fmshca0c16902f6b830p1a68f4jsn0bb666e8b8a3\",\n",
    "    \t\"x-rapidapi-host\": \"linkedin-data-api.p.rapidapi.com\"\n",
    "    }\n",
    "    \n",
    "    response = requests.get(url, headers=headers, params=querystring)\n",
    "    \n",
    "    return response.text"
   ]
  },
  {
   "cell_type": "code",
   "execution_count": 17,
   "id": "e11afd88-b218-4ef6-88c2-f6f0b30b5193",
   "metadata": {},
   "outputs": [],
   "source": [
    "profile_data = get_linkedin_profile('sinanazem')"
   ]
  },
  {
   "cell_type": "code",
   "execution_count": 18,
   "id": "2cb77351-a041-41ba-bf10-1cae71627b50",
   "metadata": {},
   "outputs": [],
   "source": [
    "def save_file(file_path, text):\n",
    "    with open(file_path, 'w') as f:\n",
    "        f.write(str(text))\n",
    "        \n",
    "def read_json(file_path):\n",
    "    with open(file_path, 'r') as f:\n",
    "        return json.load(f)"
   ]
  },
  {
   "cell_type": "code",
   "execution_count": 22,
   "id": "62458430-9240-41a5-9868-4344b9f39e83",
   "metadata": {},
   "outputs": [],
   "source": [
    "DATA_DIR = '/Users/elenatavakoli/Documents/data-science/ml-web-app/linkdin-app/src'"
   ]
  },
  {
   "cell_type": "code",
   "execution_count": 24,
   "id": "4292e34d-a1cd-438d-af5d-0ea7ab87c298",
   "metadata": {},
   "outputs": [
    {
     "name": "stdout",
     "output_type": "stream",
     "text": [
      "/Users/elenatavakoli/Documents/data-science/ml-web-app/linkdin-app/src\n"
     ]
    }
   ],
   "source": [
    "!pwd"
   ]
  },
  {
   "cell_type": "code",
   "execution_count": 25,
   "id": "93736e58-ddcf-47ac-a6bf-820375522b6b",
   "metadata": {},
   "outputs": [],
   "source": [
    "save_file('./profile-data.txt', profile_data)"
   ]
  },
  {
   "cell_type": "code",
   "execution_count": null,
   "id": "e1adf8e3-eed0-4f98-af22-668791e22cdf",
   "metadata": {},
   "outputs": [],
   "source": [
    "import streamlit as st\n",
    "from utils import read_json\n",
    "\n",
    "\n",
    "# st.image('')\n",
    "st.header('Linkedin Profile Data Search')\n",
    "\n",
    "\n",
    "linkedin_profile = read_json('/Users/elenatavakoli/Documents/data-science/ml-web-app/linkdin-app/src/linkedin_profile.json')\n",
    "# st.write(linkedin_profile)\n",
    "\n",
    "usr = st.text_input(\"Enter Username\")\n",
    "\n",
    "st.button(\"Search\", type=\"primary\")\n",
    "\n",
    "if st.button:\n",
    "    st.write(linkedin_profile)\n",
    "else:\n",
    "    st.write(\"Unknown\")"
   ]
  }
 ],
 "metadata": {
  "kernelspec": {
   "display_name": "Python 3 (ipykernel)",
   "language": "python",
   "name": "python3"
  },
  "language_info": {
   "codemirror_mode": {
    "name": "ipython",
    "version": 3
   },
   "file_extension": ".py",
   "mimetype": "text/x-python",
   "name": "python",
   "nbconvert_exporter": "python",
   "pygments_lexer": "ipython3",
   "version": "3.9.19"
  }
 },
 "nbformat": 4,
 "nbformat_minor": 5
}
